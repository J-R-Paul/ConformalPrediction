{
 "cells": [
  {
   "cell_type": "code",
   "id": "initial_id",
   "metadata": {
    "collapsed": true,
    "ExecuteTime": {
     "end_time": "2024-08-13T15:06:55.177915Z",
     "start_time": "2024-08-13T15:06:54.148539Z"
    }
   },
   "source": [
    "import numpy as np\n",
    "from sklearn.linear_model import LinearRegression\n",
    "from sklearn.metrics import mean_squared_error\n",
    "import matplotlib.pyplot as plt\n",
    "\n",
    "# Import the OnlineConstrLS class from the previous implementation\n",
    "# Assuming it's in a file named online_constrained_ls.py\n",
    "from online_constrained_ls import OnlineConstrLS\n",
    "\n",
    "def generate_data(n_samples, n_features, noise=0.1):\n",
    "    \"\"\"Generate random data for testing.\"\"\"\n",
    "    X = np.random.rand(n_samples, n_features)\n",
    "    true_weights = np.random.rand(n_features)\n",
    "    true_weights /= np.sum(true_weights)  # Normalize to sum to 1\n",
    "    y = np.dot(X, true_weights) + np.random.normal(0, noise, n_samples)\n",
    "    return X, y, true_weights\n",
    "\n",
    "def run_monte_carlo(n_trials, n_samples, n_features, noise=0.1):\n",
    "    \"\"\"Run Monte Carlo simulation.\"\"\"\n",
    "    ocls_mses = []\n",
    "    ls_mses = []\n",
    "    weight_errors_ocls = []\n",
    "    weight_errors_ls = []\n",
    "\n",
    "    for _ in range(n_trials):\n",
    "        X, y, true_weights = generate_data(n_samples, n_features, noise)\n",
    "\n",
    "        # Split data into train and test\n",
    "        train_size = int(0.8 * n_samples)\n",
    "        X_train, X_test = X[:train_size], X[train_size:]\n",
    "        y_train, y_test = y[:train_size], y[train_size:]\n",
    "\n",
    "        # Train and evaluate OnlineConstrLS\n",
    "        ocls = OnlineConstrLS(unit_interval=True, learning_rate=0.01)\n",
    "        ocls.fit(X_train, y_train)\n",
    "        ocls_pred = ocls.predict(X_test)\n",
    "        ocls_mse = mean_squared_error(y_test, ocls_pred)\n",
    "        ocls_mses.append(ocls_mse)\n",
    "        weight_errors_ocls.append(np.mean(np.abs(ocls.coef_ - true_weights)))\n",
    "\n",
    "        # Train and evaluate standard Least Squares\n",
    "        ls = LinearRegression()\n",
    "        ls.fit(X_train, y_train)\n",
    "        ls_pred = ls.predict(X_test)\n",
    "        ls_mse = mean_squared_error(y_test, ls_pred)\n",
    "        ls_mses.append(ls_mse)\n",
    "        weight_errors_ls.append(np.mean(np.abs(ls.coef_ - true_weights)))\n",
    "\n",
    "    return ocls_mses, ls_mses, weight_errors_ocls, weight_errors_ls\n",
    "\n",
    "def plot_results(ocls_mses, ls_mses, weight_errors_ocls, weight_errors_ls):\n",
    "    \"\"\"Plot the results of the Monte Carlo simulation.\"\"\"\n",
    "    fig, (ax1, ax2) = plt.subplots(1, 2, figsize=(15, 5))\n",
    "\n",
    "    ax1.boxplot([ocls_mses, ls_mses], labels=['OnlineConstrLS', 'LinearRegression'])\n",
    "    ax1.set_ylabel('Mean Squared Error')\n",
    "    ax1.set_title('MSE Comparison')\n",
    "\n",
    "    ax2.boxplot([weight_errors_ocls, weight_errors_ls], labels=['OnlineConstrLS', 'LinearRegression'])\n",
    "    ax2.set_ylabel('Mean Absolute Weight Error')\n",
    "    ax2.set_title('Weight Error Comparison')\n",
    "\n",
    "    plt.tight_layout()\n",
    "    plt.show()"
   ],
   "outputs": [
    {
     "ename": "ModuleNotFoundError",
     "evalue": "No module named 'matplotlib'",
     "output_type": "error",
     "traceback": [
      "\u001B[0;31m---------------------------------------------------------------------------\u001B[0m",
      "\u001B[0;31mModuleNotFoundError\u001B[0m                       Traceback (most recent call last)",
      "Cell \u001B[0;32mIn[1], line 4\u001B[0m\n\u001B[1;32m      2\u001B[0m \u001B[38;5;28;01mfrom\u001B[39;00m \u001B[38;5;21;01msklearn\u001B[39;00m\u001B[38;5;21;01m.\u001B[39;00m\u001B[38;5;21;01mlinear_model\u001B[39;00m \u001B[38;5;28;01mimport\u001B[39;00m LinearRegression\n\u001B[1;32m      3\u001B[0m \u001B[38;5;28;01mfrom\u001B[39;00m \u001B[38;5;21;01msklearn\u001B[39;00m\u001B[38;5;21;01m.\u001B[39;00m\u001B[38;5;21;01mmetrics\u001B[39;00m \u001B[38;5;28;01mimport\u001B[39;00m mean_squared_error\n\u001B[0;32m----> 4\u001B[0m \u001B[38;5;28;01mimport\u001B[39;00m \u001B[38;5;21;01mmatplotlib\u001B[39;00m\u001B[38;5;21;01m.\u001B[39;00m\u001B[38;5;21;01mpyplot\u001B[39;00m \u001B[38;5;28;01mas\u001B[39;00m \u001B[38;5;21;01mplt\u001B[39;00m\n\u001B[1;32m      6\u001B[0m \u001B[38;5;66;03m# Import the OnlineConstrLS class from the previous implementation\u001B[39;00m\n\u001B[1;32m      7\u001B[0m \u001B[38;5;66;03m# Assuming it's in a file named online_constrained_ls.py\u001B[39;00m\n\u001B[1;32m      8\u001B[0m \u001B[38;5;28;01mfrom\u001B[39;00m \u001B[38;5;21;01monline_constrained_ls\u001B[39;00m \u001B[38;5;28;01mimport\u001B[39;00m OnlineConstrLS\n",
      "\u001B[0;31mModuleNotFoundError\u001B[0m: No module named 'matplotlib'"
     ]
    }
   ],
   "execution_count": 1
  },
  {
   "metadata": {},
   "cell_type": "code",
   "outputs": [],
   "execution_count": null,
   "source": [
    "# Run the simulation\n",
    "n_trials = 100\n",
    "n_samples = 1000\n",
    "n_features = 5\n",
    "noise = 0.1\n",
    "\n",
    "ocls_mses, ls_mses, weight_errors_ocls, weight_errors_ls = run_monte_carlo(n_trials, n_samples, n_features, noise)\n",
    "\n",
    "# Plot the results\n",
    "plot_results(ocls_mses, ls_mses, weight_errors_ocls, weight_errors_ls)\n",
    "\n",
    "# Print summary statistics\n",
    "print(\"OnlineConstrLS - Mean MSE:\", np.mean(ocls_mses))\n",
    "print(\"LinearRegression - Mean MSE:\", np.mean(ls_mses))\n",
    "print(\"OnlineConstrLS - Mean Weight Error:\", np.mean(weight_errors_ocls))\n",
    "print(\"LinearRegression - Mean Weight Error:\", np.mean(weight_errors_ls))"
   ],
   "id": "5924dd8641cca95f"
  },
  {
   "metadata": {
    "ExecuteTime": {
     "end_time": "2024-08-13T15:07:00.076696Z",
     "start_time": "2024-08-13T15:07:00.073666Z"
    }
   },
   "cell_type": "code",
   "source": [
    "# Print python version\n",
    "import sys\n",
    "\n",
    "print(sys.version)\n"
   ],
   "id": "2dbe93a39f2ef2ef",
   "outputs": [
    {
     "name": "stdout",
     "output_type": "stream",
     "text": [
      "3.10.12 | packaged by conda-forge | (main, Jun 23 2023, 22:41:52) [Clang 15.0.7 ]\n"
     ]
    }
   ],
   "execution_count": 2
  },
  {
   "metadata": {},
   "cell_type": "code",
   "outputs": [],
   "execution_count": null,
   "source": "",
   "id": "d68e0c14a997eb75"
  }
 ],
 "metadata": {
  "kernelspec": {
   "display_name": "Python 3 (ipykernel)",
   "language": "python",
   "name": "python3"
  },
  "language_info": {
   "codemirror_mode": {
    "name": "ipython",
    "version": 2
   },
   "file_extension": ".py",
   "mimetype": "text/x-python",
   "name": "python",
   "nbconvert_exporter": "python",
   "pygments_lexer": "ipython2",
   "version": "2.7.6"
  }
 },
 "nbformat": 4,
 "nbformat_minor": 5
}
