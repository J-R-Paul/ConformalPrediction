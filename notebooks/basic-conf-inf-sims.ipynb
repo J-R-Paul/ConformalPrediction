{
 "cells": [
  {
   "cell_type": "code",
   "id": "initial_id",
   "metadata": {
    "collapsed": true,
    "ExecuteTime": {
     "end_time": "2024-08-22T14:06:46.015869Z",
     "start_time": "2024-08-22T14:06:45.129370Z"
    }
   },
   "source": [
    "import sys\n",
    "sys.path.append('../utils')\n",
    "\n",
    "import numpy as np\n",
    "from sklearn.linear_model import LinearRegression\n",
    "\n",
    "from utils.basic_conformal_inference import ConformalPredictor"
   ],
   "outputs": [],
   "execution_count": 2
  },
  {
   "metadata": {
    "ExecuteTime": {
     "end_time": "2024-08-22T14:07:30.408050Z",
     "start_time": "2024-08-22T14:07:29.985533Z"
    }
   },
   "cell_type": "code",
   "source": [
    "# Example usage\n",
    "def dgp(n):\n",
    "    X = np.random.randn(n, 1)\n",
    "    Y = 2 * X.squeeze() + 1 + np.random.randn(n)\n",
    "    return X, Y\n",
    "\n",
    "n = 500\n",
    "np.random.seed(0)\n",
    "X, Y = dgp(n)\n",
    "X_new = np.array([0.25, .54]).reshape(-1, 1)\n",
    "Y_trial = np.linspace(-10, 10, 1000)\n",
    "alpha = 0.1\n",
    "\n",
    "predictor = ConformalPredictor(LinearRegression(), alpha)\n",
    "predictor.fit(X, Y)\n",
    "prediction_intervals = predictor.predict(X_new, Y_trial)\n",
    "print(prediction_intervals)\n"
   ],
   "id": "3a5800e7a04e5b2d",
   "outputs": [
    {
     "name": "stdout",
     "output_type": "stream",
     "text": [
      "[array([-0.17017017,  3.03303303]), array([0.39039039, 3.59359359])]\n"
     ]
    }
   ],
   "execution_count": 7
  },
  {
   "metadata": {
    "ExecuteTime": {
     "end_time": "2024-08-22T14:11:11.967907Z",
     "start_time": "2024-08-22T14:08:12.678275Z"
    }
   },
   "cell_type": "code",
   "source": [
    "def monte_carlo(n_mc, n_sample, alpha):\n",
    "    coverage = 0\n",
    "    for _ in range(n_mc):\n",
    "        X, Y = dgp(n_sample)\n",
    "        X_new = np.array([X[-1]])\n",
    "        y_new = Y[-1]\n",
    "        X, Y = X[:-1], Y[:-1]\n",
    "        Y_trial = np.linspace(np.min(Y) - 2, np.max(Y) + 2, 1000)\n",
    "        \n",
    "        predictor = ConformalPredictor(LinearRegression(), alpha)\n",
    "        predictor.fit(X, Y)\n",
    "        prediction_intervals = predictor.predict(X_new, Y_trial)\n",
    "        coverage += (y_new >= min(prediction_intervals[0])) and (y_new <= max(prediction_intervals[0]))\n",
    "    return coverage / n_mc\n",
    "\n",
    "n_mc = 500\n",
    "n = 5000\n",
    "alpha = 0.1\n",
    "coverage = monte_carlo(n_mc, n, alpha)"
   ],
   "id": "5483c45bffd8ec76",
   "outputs": [],
   "execution_count": 8
  },
  {
   "metadata": {
    "ExecuteTime": {
     "end_time": "2024-08-22T14:11:11.973644Z",
     "start_time": "2024-08-22T14:11:11.970350Z"
    }
   },
   "cell_type": "code",
   "source": "print(coverage)",
   "id": "506bc8de9dbd5ee0",
   "outputs": [
    {
     "name": "stdout",
     "output_type": "stream",
     "text": [
      "0.882\n"
     ]
    }
   ],
   "execution_count": 9
  }
 ],
 "metadata": {
  "kernelspec": {
   "display_name": "conformalprediction",
   "language": "python",
   "name": "conformalprediction"
  },
  "language_info": {
   "codemirror_mode": {
    "name": "ipython",
    "version": 2
   },
   "file_extension": ".py",
   "mimetype": "text/x-python",
   "name": "python",
   "nbconvert_exporter": "python",
   "pygments_lexer": "ipython2",
   "version": "2.7.6"
  }
 },
 "nbformat": 4,
 "nbformat_minor": 5
}
